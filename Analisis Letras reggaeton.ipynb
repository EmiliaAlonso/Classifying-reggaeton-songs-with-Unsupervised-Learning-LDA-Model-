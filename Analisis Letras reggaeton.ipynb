{
 "cells": [
  {
   "cell_type": "code",
   "execution_count": 1,
   "metadata": {},
   "outputs": [],
   "source": [
    "import pandas as pd\n",
    "import nltk\n",
    "from sklearn.feature_extraction.text import CountVectorizer\n",
    "import gensim\n",
    "from gensim.utils import simple_preprocess\n",
    "from gensim.parsing.preprocessing import STOPWORDS\n",
    "from nltk.stem import WordNetLemmatizer, SnowballStemmer\n",
    "from nltk.stem.porter import *\n",
    "import numpy as np\n",
    "\n"
   ]
  },
  {
   "cell_type": "code",
   "execution_count": 2,
   "metadata": {
    "scrolled": false
   },
   "outputs": [
    {
     "name": "stderr",
     "output_type": "stream",
     "text": [
      "[nltk_data] Downloading package wordnet to\n",
      "[nltk_data]     C:\\Users\\leona\\AppData\\Roaming\\nltk_data...\n",
      "[nltk_data]   Package wordnet is already up-to-date!\n"
     ]
    },
    {
     "data": {
      "text/plain": [
       "True"
      ]
     },
     "execution_count": 2,
     "metadata": {},
     "output_type": "execute_result"
    }
   ],
   "source": [
    "nltk.download('wordnet')"
   ]
  },
  {
   "cell_type": "code",
   "execution_count": 3,
   "metadata": {
    "scrolled": false
   },
   "outputs": [
    {
     "data": {
      "text/html": [
       "<div>\n",
       "<style scoped>\n",
       "    .dataframe tbody tr th:only-of-type {\n",
       "        vertical-align: middle;\n",
       "    }\n",
       "\n",
       "    .dataframe tbody tr th {\n",
       "        vertical-align: top;\n",
       "    }\n",
       "\n",
       "    .dataframe thead th {\n",
       "        text-align: right;\n",
       "    }\n",
       "</style>\n",
       "<table border=\"1\" class=\"dataframe\">\n",
       "  <thead>\n",
       "    <tr style=\"text-align: right;\">\n",
       "      <th></th>\n",
       "      <th>Títulos</th>\n",
       "      <th>Artistas</th>\n",
       "      <th>Letras</th>\n",
       "    </tr>\n",
       "  </thead>\n",
       "  <tbody>\n",
       "    <tr>\n",
       "      <th>0</th>\n",
       "      <td>Volando (remix) (part. Bad Bunny y Sech)</td>\n",
       "      <td>Mora</td>\n",
       "      <td>['Yeah-yeah, yeah-yeah', 'Yeh-eh, ey, ey', 'Di...</td>\n",
       "    </tr>\n",
       "    <tr>\n",
       "      <th>1</th>\n",
       "      <td>Yonaguni</td>\n",
       "      <td>Bad Bunny</td>\n",
       "      <td>['Yeah, yeah, yeah, yeah', 'Yeah, yeah, yeah, ...</td>\n",
       "    </tr>\n",
       "    <tr>\n",
       "      <th>2</th>\n",
       "      <td>Pepas</td>\n",
       "      <td>Farruko</td>\n",
       "      <td>['No me importa lo que de mí se diga', 'Viva u...</td>\n",
       "    </tr>\n",
       "    <tr>\n",
       "      <th>3</th>\n",
       "      <td>Te Bote (remix) (part. Casper, Nio García, Dar...</td>\n",
       "      <td>Bad Bunny</td>\n",
       "      <td>['[Darell]', 'Este es el verdadero remix, baby...</td>\n",
       "    </tr>\n",
       "    <tr>\n",
       "      <th>4</th>\n",
       "      <td>Poblado (remix) (part. Karol G, Nicky Jam, Cri...</td>\n",
       "      <td>J Balvin</td>\n",
       "      <td>['Kapital Music', '(¿Aló?)', '(Ya estoy en Med...</td>\n",
       "    </tr>\n",
       "  </tbody>\n",
       "</table>\n",
       "</div>"
      ],
      "text/plain": [
       "                                             Títulos   Artistas  \\\n",
       "0           Volando (remix) (part. Bad Bunny y Sech)       Mora   \n",
       "1                                           Yonaguni  Bad Bunny   \n",
       "2                                              Pepas    Farruko   \n",
       "3  Te Bote (remix) (part. Casper, Nio García, Dar...  Bad Bunny   \n",
       "4  Poblado (remix) (part. Karol G, Nicky Jam, Cri...   J Balvin   \n",
       "\n",
       "                                              Letras  \n",
       "0  ['Yeah-yeah, yeah-yeah', 'Yeh-eh, ey, ey', 'Di...  \n",
       "1  ['Yeah, yeah, yeah, yeah', 'Yeah, yeah, yeah, ...  \n",
       "2  ['No me importa lo que de mí se diga', 'Viva u...  \n",
       "3  ['[Darell]', 'Este es el verdadero remix, baby...  \n",
       "4  ['Kapital Music', '(¿Aló?)', '(Ya estoy en Med...  "
      ]
     },
     "execution_count": 3,
     "metadata": {},
     "output_type": "execute_result"
    }
   ],
   "source": [
    "df = pd.read_csv(\"Letras.csv\")\n",
    "df.drop(\"Unnamed: 0\", axis=1, inplace=True)\n",
    "df.head()\n"
   ]
  },
  {
   "cell_type": "code",
   "execution_count": 4,
   "metadata": {},
   "outputs": [
    {
     "data": {
      "text/html": [
       "<div>\n",
       "<style scoped>\n",
       "    .dataframe tbody tr th:only-of-type {\n",
       "        vertical-align: middle;\n",
       "    }\n",
       "\n",
       "    .dataframe tbody tr th {\n",
       "        vertical-align: top;\n",
       "    }\n",
       "\n",
       "    .dataframe thead th {\n",
       "        text-align: right;\n",
       "    }\n",
       "</style>\n",
       "<table border=\"1\" class=\"dataframe\">\n",
       "  <thead>\n",
       "    <tr style=\"text-align: right;\">\n",
       "      <th></th>\n",
       "      <th>Títulos</th>\n",
       "      <th>Artistas</th>\n",
       "      <th>Letras</th>\n",
       "    </tr>\n",
       "  </thead>\n",
       "  <tbody>\n",
       "    <tr>\n",
       "      <th>735</th>\n",
       "      <td>Luna Dile</td>\n",
       "      <td>Nigga (Flex)</td>\n",
       "      <td>['romantic style in the world,', '!I Love You ...</td>\n",
       "    </tr>\n",
       "    <tr>\n",
       "      <th>736</th>\n",
       "      <td>+Linda (remix) (part. Arcángel, Manuel Turizo,...</td>\n",
       "      <td>Dalex</td>\n",
       "      <td>['(Remix, baby)', \"Ya no hay excusa pa' recupe...</td>\n",
       "    </tr>\n",
       "    <tr>\n",
       "      <th>737</th>\n",
       "      <td>Si Tu Lo Dejas (part. Rvssian, Farruko, Nicky ...</td>\n",
       "      <td>Bad Bunny</td>\n",
       "      <td>['Yeh', '(Hey Rvssian)', '[Bad Bunny, Nicky Ja...</td>\n",
       "    </tr>\n",
       "    <tr>\n",
       "      <th>738</th>\n",
       "      <td>Fiebre</td>\n",
       "      <td>Bad Gyal</td>\n",
       "      <td>['Llega Ba- ba Bad Gyal', 'Cuando yo te bailo,...</td>\n",
       "    </tr>\n",
       "    <tr>\n",
       "      <th>739</th>\n",
       "      <td>SOLA ES MEJOR (part. Yandar &amp; Yostin)</td>\n",
       "      <td>KAROL G</td>\n",
       "      <td>['Por eso no me enamoro', 'Porque esta zona es...</td>\n",
       "    </tr>\n",
       "  </tbody>\n",
       "</table>\n",
       "</div>"
      ],
      "text/plain": [
       "                                               Títulos      Artistas  \\\n",
       "735                                          Luna Dile  Nigga (Flex)   \n",
       "736  +Linda (remix) (part. Arcángel, Manuel Turizo,...         Dalex   \n",
       "737  Si Tu Lo Dejas (part. Rvssian, Farruko, Nicky ...     Bad Bunny   \n",
       "738                                             Fiebre      Bad Gyal   \n",
       "739              SOLA ES MEJOR (part. Yandar & Yostin)       KAROL G   \n",
       "\n",
       "                                                Letras  \n",
       "735  ['romantic style in the world,', '!I Love You ...  \n",
       "736  ['(Remix, baby)', \"Ya no hay excusa pa' recupe...  \n",
       "737  ['Yeh', '(Hey Rvssian)', '[Bad Bunny, Nicky Ja...  \n",
       "738  ['Llega Ba- ba Bad Gyal', 'Cuando yo te bailo,...  \n",
       "739  ['Por eso no me enamoro', 'Porque esta zona es...  "
      ]
     },
     "execution_count": 4,
     "metadata": {},
     "output_type": "execute_result"
    }
   ],
   "source": [
    "df.tail()"
   ]
  },
  {
   "cell_type": "code",
   "execution_count": null,
   "metadata": {},
   "outputs": [],
   "source": []
  },
  {
   "cell_type": "markdown",
   "metadata": {},
   "source": [
    "## Preprocesamiento\n",
    "\n",
    "- Limpiamos el texto de etiquetas html\n",
    "- Tokenizamos\n",
    "- Removemos las stopwords\n",
    "- Stemming: volvemos las palabras a su raiz(puede no tener significado)\n",
    "- Lemmatizing: volvemos las palabras a su raiz(tiene significado)\n"
   ]
  },
  {
   "cell_type": "code",
   "execution_count": 5,
   "metadata": {},
   "outputs": [],
   "source": [
    "import gensim\n",
    "from gensim.utils import simple_preprocess\n",
    "from gensim.parsing.preprocessing import STOPWORDS\n",
    "from nltk.stem import SnowballStemmer\n",
    "np.random.seed(400)\n",
    "\n",
    "\n",
    "#STEMMATIZER FUNCTION\n",
    "#vuelve las palabras a su raiz (puede no tener significado)\n",
    "porter = PorterStemmer()\n",
    "def stemm_token(text):\n",
    "    return [porter.stem(word) for word in text]\n",
    "\n",
    "#LEMMATIZER FUNCTION\n",
    "#vuelve las palabras a su raiz (sí tiene significado)\n",
    "import spacy\n",
    "import es_core_news_lg\n",
    "sp = es_core_news_lg.load()\n",
    "\n",
    "\n",
    "\n",
    "def lemmatizer(text):\n",
    "    \n",
    "    result_l = []\n",
    "    \n",
    "    for token in range(len(text)):\n",
    "        objeto_letra = sp(text[token])\n",
    "        for word in objeto_letra:\n",
    "            result_l.append(\" \".join([word.lemma_ for word in objeto_letra]))\n",
    "    return result_l  \n",
    "    \n",
    "    \n",
    "\n",
    "# TOKENIZER\n",
    "def tokenizer(text):\n",
    "    return nltk.word_tokenize(text,\"spanish\")\n",
    "\n",
    "\n",
    "\n",
    "# PUNCTUATION PREPROCESSOR\n",
    "\n",
    "import re\n",
    "def preprocessor(text):\n",
    "    #Para eliminar las etiquetas HTML\n",
    "    text = re.sub(r'<[^>]*>', '', text)\n",
    "    #Eliminamos todos los caracteres que no sean palabras\n",
    "    text = re.sub(r'[\\W]+', ' ', text.lower()) \n",
    "    return text\n",
    "\n",
    "\n",
    "\n"
   ]
  },
  {
   "cell_type": "code",
   "execution_count": 6,
   "metadata": {},
   "outputs": [],
   "source": [
    "# LIMPIEZA DEL TEXTO\n",
    "\n",
    "df[\"Letras\"] = df[\"Letras\"].apply(lambda x: preprocessor(x))"
   ]
  },
  {
   "cell_type": "code",
   "execution_count": 7,
   "metadata": {},
   "outputs": [
    {
     "data": {
      "text/html": [
       "<div>\n",
       "<style scoped>\n",
       "    .dataframe tbody tr th:only-of-type {\n",
       "        vertical-align: middle;\n",
       "    }\n",
       "\n",
       "    .dataframe tbody tr th {\n",
       "        vertical-align: top;\n",
       "    }\n",
       "\n",
       "    .dataframe thead th {\n",
       "        text-align: right;\n",
       "    }\n",
       "</style>\n",
       "<table border=\"1\" class=\"dataframe\">\n",
       "  <thead>\n",
       "    <tr style=\"text-align: right;\">\n",
       "      <th></th>\n",
       "      <th>Títulos</th>\n",
       "      <th>Artistas</th>\n",
       "      <th>Letras</th>\n",
       "    </tr>\n",
       "  </thead>\n",
       "  <tbody>\n",
       "    <tr>\n",
       "      <th>0</th>\n",
       "      <td>Volando (remix) (part. Bad Bunny y Sech)</td>\n",
       "      <td>Mora</td>\n",
       "      <td>[yeah, yeah, yeah, yeah, yeh, eh, ey, ey, disf...</td>\n",
       "    </tr>\n",
       "    <tr>\n",
       "      <th>1</th>\n",
       "      <td>Yonaguni</td>\n",
       "      <td>Bad Bunny</td>\n",
       "      <td>[yeah, yeah, yeah, yeah, yeah, yeah, yeah, yea...</td>\n",
       "    </tr>\n",
       "    <tr>\n",
       "      <th>2</th>\n",
       "      <td>Pepas</td>\n",
       "      <td>Farruko</td>\n",
       "      <td>[no, me, importa, lo, que, de, mí, se, diga, v...</td>\n",
       "    </tr>\n",
       "    <tr>\n",
       "      <th>3</th>\n",
       "      <td>Te Bote (remix) (part. Casper, Nio García, Dar...</td>\n",
       "      <td>Bad Bunny</td>\n",
       "      <td>[darell, este, es, el, verdadero, remix, baby,...</td>\n",
       "    </tr>\n",
       "    <tr>\n",
       "      <th>4</th>\n",
       "      <td>Poblado (remix) (part. Karol G, Nicky Jam, Cri...</td>\n",
       "      <td>J Balvin</td>\n",
       "      <td>[kapital, music, aló, ya, estoy, en, medallo, ...</td>\n",
       "    </tr>\n",
       "  </tbody>\n",
       "</table>\n",
       "</div>"
      ],
      "text/plain": [
       "                                             Títulos   Artistas  \\\n",
       "0           Volando (remix) (part. Bad Bunny y Sech)       Mora   \n",
       "1                                           Yonaguni  Bad Bunny   \n",
       "2                                              Pepas    Farruko   \n",
       "3  Te Bote (remix) (part. Casper, Nio García, Dar...  Bad Bunny   \n",
       "4  Poblado (remix) (part. Karol G, Nicky Jam, Cri...   J Balvin   \n",
       "\n",
       "                                              Letras  \n",
       "0  [yeah, yeah, yeah, yeah, yeh, eh, ey, ey, disf...  \n",
       "1  [yeah, yeah, yeah, yeah, yeah, yeah, yeah, yea...  \n",
       "2  [no, me, importa, lo, que, de, mí, se, diga, v...  \n",
       "3  [darell, este, es, el, verdadero, remix, baby,...  \n",
       "4  [kapital, music, aló, ya, estoy, en, medallo, ...  "
      ]
     },
     "execution_count": 7,
     "metadata": {},
     "output_type": "execute_result"
    }
   ],
   "source": [
    "#TOKENIZACION\n",
    "\n",
    "df[\"Letras\"] = df[\"Letras\"].apply(lambda x: tokenizer(x))\n",
    "df.head()"
   ]
  },
  {
   "cell_type": "code",
   "execution_count": 8,
   "metadata": {
    "scrolled": true
   },
   "outputs": [
    {
     "data": {
      "text/html": [
       "<div>\n",
       "<style scoped>\n",
       "    .dataframe tbody tr th:only-of-type {\n",
       "        vertical-align: middle;\n",
       "    }\n",
       "\n",
       "    .dataframe tbody tr th {\n",
       "        vertical-align: top;\n",
       "    }\n",
       "\n",
       "    .dataframe thead th {\n",
       "        text-align: right;\n",
       "    }\n",
       "</style>\n",
       "<table border=\"1\" class=\"dataframe\">\n",
       "  <thead>\n",
       "    <tr style=\"text-align: right;\">\n",
       "      <th></th>\n",
       "      <th>Títulos</th>\n",
       "      <th>Artistas</th>\n",
       "      <th>Letras</th>\n",
       "    </tr>\n",
       "  </thead>\n",
       "  <tbody>\n",
       "    <tr>\n",
       "      <th>0</th>\n",
       "      <td>Volando (remix) (part. Bad Bunny y Sech)</td>\n",
       "      <td>Mora</td>\n",
       "      <td>[yeah, yeah, yeah, yeah, yeh, eh, ey, ey, disf...</td>\n",
       "    </tr>\n",
       "    <tr>\n",
       "      <th>1</th>\n",
       "      <td>Yonaguni</td>\n",
       "      <td>Bad Bunny</td>\n",
       "      <td>[yeah, yeah, yeah, yeah, yeah, yeah, yeah, yea...</td>\n",
       "    </tr>\n",
       "    <tr>\n",
       "      <th>2</th>\n",
       "      <td>Pepas</td>\n",
       "      <td>Farruko</td>\n",
       "      <td>[no, me, importa, lo, que, de, mí, se, diga, v...</td>\n",
       "    </tr>\n",
       "    <tr>\n",
       "      <th>3</th>\n",
       "      <td>Te Bote (remix) (part. Casper, Nio García, Dar...</td>\n",
       "      <td>Bad Bunny</td>\n",
       "      <td>[darel, est, es, el, verdadero, remix, babi, o...</td>\n",
       "    </tr>\n",
       "    <tr>\n",
       "      <th>4</th>\n",
       "      <td>Poblado (remix) (part. Karol G, Nicky Jam, Cri...</td>\n",
       "      <td>J Balvin</td>\n",
       "      <td>[kapit, music, aló, ya, estoy, en, medallo, mo...</td>\n",
       "    </tr>\n",
       "  </tbody>\n",
       "</table>\n",
       "</div>"
      ],
      "text/plain": [
       "                                             Títulos   Artistas  \\\n",
       "0           Volando (remix) (part. Bad Bunny y Sech)       Mora   \n",
       "1                                           Yonaguni  Bad Bunny   \n",
       "2                                              Pepas    Farruko   \n",
       "3  Te Bote (remix) (part. Casper, Nio García, Dar...  Bad Bunny   \n",
       "4  Poblado (remix) (part. Karol G, Nicky Jam, Cri...   J Balvin   \n",
       "\n",
       "                                              Letras  \n",
       "0  [yeah, yeah, yeah, yeah, yeh, eh, ey, ey, disf...  \n",
       "1  [yeah, yeah, yeah, yeah, yeah, yeah, yeah, yea...  \n",
       "2  [no, me, importa, lo, que, de, mí, se, diga, v...  \n",
       "3  [darel, est, es, el, verdadero, remix, babi, o...  \n",
       "4  [kapit, music, aló, ya, estoy, en, medallo, mo...  "
      ]
     },
     "execution_count": 8,
     "metadata": {},
     "output_type": "execute_result"
    }
   ],
   "source": [
    "# STEMMATIZER\n",
    "\n",
    "df[\"Letras\"] =df[\"Letras\"].apply(lambda x: stemm_token(x))\n",
    "df.head()"
   ]
  },
  {
   "cell_type": "code",
   "execution_count": 9,
   "metadata": {},
   "outputs": [
    {
     "name": "stdout",
     "output_type": "stream",
     "text": [
      "True\n"
     ]
    }
   ],
   "source": [
    "#STOPWORDS\n",
    "#PALABRAS FUNCIONALES\n",
    "\n",
    "palabras_funcionales=nltk.corpus.stopwords.words(\"spanish\")\n",
    "\n",
    "#GLOSARIO PALABRAS REGGAETON\n",
    "\n",
    "import requests\n",
    "from bs4 import BeautifulSoup\n",
    "\n",
    "response = requests.get(\"https://www.metroecuador.com.ec/ec/noticias/2017/02/01/acicalao-dembow-fantasmeo-glosario-reggaeton.html\")\n",
    "url = \"https://www.metroecuador.com.ec/ec/noticias/2017/02/01/acicalao-dembow-fantasmeo-glosario-reggaeton.html\"\n",
    "response = requests.get(url)\n",
    "print(bool(response))\n",
    "soup = BeautifulSoup(response.text, \"html.parser\")\n",
    "\n",
    "divs = soup.find_all(\"p\")\n",
    "glosario_r = list()\n",
    "\n",
    "for i in range(len(divs[3:])):\n",
    "    try:\n",
    "        glosario_r.append(divs[i].find(\"strong\").get_text(strip=True))\n",
    "    except AttributeError:\n",
    "        pass\n",
    "   \n"
   ]
  },
  {
   "cell_type": "code",
   "execution_count": 10,
   "metadata": {},
   "outputs": [],
   "source": [
    "def stop_words(text):\n",
    "    \n",
    "    result = []\n",
    "    \n",
    "    for token in text:\n",
    "        if token not in palabras_funcionales and len(token) > 3 and token != \"yeah\" and token != \"baby\":\n",
    "            result.append(token)\n",
    "        elif token in glosario_r and token != \"porqu\":\n",
    "            result.append(token)\n",
    "    return result         \n"
   ]
  },
  {
   "cell_type": "code",
   "execution_count": 11,
   "metadata": {},
   "outputs": [
    {
     "data": {
      "text/html": [
       "<div>\n",
       "<style scoped>\n",
       "    .dataframe tbody tr th:only-of-type {\n",
       "        vertical-align: middle;\n",
       "    }\n",
       "\n",
       "    .dataframe tbody tr th {\n",
       "        vertical-align: top;\n",
       "    }\n",
       "\n",
       "    .dataframe thead th {\n",
       "        text-align: right;\n",
       "    }\n",
       "</style>\n",
       "<table border=\"1\" class=\"dataframe\">\n",
       "  <thead>\n",
       "    <tr style=\"text-align: right;\">\n",
       "      <th></th>\n",
       "      <th>Títulos</th>\n",
       "      <th>Artistas</th>\n",
       "      <th>Letras</th>\n",
       "    </tr>\n",
       "  </thead>\n",
       "  <tbody>\n",
       "    <tr>\n",
       "      <th>0</th>\n",
       "      <td>Volando (remix) (part. Bad Bunny y Sech)</td>\n",
       "      <td>Mora</td>\n",
       "      <td>[disfruto, poder, vert, aunqu, conmigo, confor...</td>\n",
       "    </tr>\n",
       "    <tr>\n",
       "      <th>1</th>\n",
       "      <td>Yonaguni</td>\n",
       "      <td>Bad Bunny</td>\n",
       "      <td>[noch, copa, deja, ment, aunqu, debo, pensar, ...</td>\n",
       "    </tr>\n",
       "    <tr>\n",
       "      <th>2</th>\n",
       "      <td>Pepas</td>\n",
       "      <td>Farruko</td>\n",
       "      <td>[importa, diga, viva, vida, vivo, solo, disfru...</td>\n",
       "    </tr>\n",
       "    <tr>\n",
       "      <th>3</th>\n",
       "      <td>Te Bote (remix) (part. Casper, Nio García, Dar...</td>\n",
       "      <td>Bad Bunny</td>\n",
       "      <td>[darel, verdadero, remix, babi, ozuna, paso, m...</td>\n",
       "    </tr>\n",
       "    <tr>\n",
       "      <th>4</th>\n",
       "      <td>Poblado (remix) (part. Karol G, Nicky Jam, Cri...</td>\n",
       "      <td>J Balvin</td>\n",
       "      <td>[kapit, music, medallo, colombia, gang, gang, ...</td>\n",
       "    </tr>\n",
       "  </tbody>\n",
       "</table>\n",
       "</div>"
      ],
      "text/plain": [
       "                                             Títulos   Artistas  \\\n",
       "0           Volando (remix) (part. Bad Bunny y Sech)       Mora   \n",
       "1                                           Yonaguni  Bad Bunny   \n",
       "2                                              Pepas    Farruko   \n",
       "3  Te Bote (remix) (part. Casper, Nio García, Dar...  Bad Bunny   \n",
       "4  Poblado (remix) (part. Karol G, Nicky Jam, Cri...   J Balvin   \n",
       "\n",
       "                                              Letras  \n",
       "0  [disfruto, poder, vert, aunqu, conmigo, confor...  \n",
       "1  [noch, copa, deja, ment, aunqu, debo, pensar, ...  \n",
       "2  [importa, diga, viva, vida, vivo, solo, disfru...  \n",
       "3  [darel, verdadero, remix, babi, ozuna, paso, m...  \n",
       "4  [kapit, music, medallo, colombia, gang, gang, ...  "
      ]
     },
     "execution_count": 11,
     "metadata": {},
     "output_type": "execute_result"
    }
   ],
   "source": [
    "df[\"Letras\"] = df[\"Letras\"].apply(lambda x: stop_words(x))\n",
    "df.head()"
   ]
  },
  {
   "cell_type": "code",
   "execution_count": 12,
   "metadata": {},
   "outputs": [
    {
     "data": {
      "text/plain": [
       "0    [disfrutar, poder, vert, aunqu, yo, conformarm...\n",
       "1    [noch, copa, dejar, ment, aunqu, deber, pensar...\n",
       "2    [importar, decir, vivir, vida, vivir, solo, di...\n",
       "3    [darel, verdadero, remix, babi, ozuna, paso, m...\n",
       "4    [kapit, music, medallo, colombia, gang, gang, ...\n",
       "Name: Letras, dtype: object"
      ]
     },
     "execution_count": 12,
     "metadata": {},
     "output_type": "execute_result"
    }
   ],
   "source": [
    "# LEMMATIZACION\n",
    "\n",
    "\n",
    "df[\"Letras\"] = df[\"Letras\"].apply(lambda x: lemmatizer(x))\n",
    "df[\"Letras\"].head()"
   ]
  },
  {
   "cell_type": "markdown",
   "metadata": {},
   "source": [
    "## Bag Of Words usando gensim.corpora.dictionary"
   ]
  },
  {
   "cell_type": "code",
   "execution_count": 13,
   "metadata": {
    "scrolled": true
   },
   "outputs": [],
   "source": [
    "#CREAMOS UN DICCIONARIO CON LOS TOKENS_STEMM (lematizados y stematizados)\n",
    "#Lista de tuplas con dos items, el id del token y el numero de veces que ese token aparece en el set de entrenamiento\n",
    "\n",
    "\n",
    "dictionary = gensim.corpora.Dictionary(df[\"Letras\"])\n",
    "\n",
    "\n",
    "\n",
    "\n",
    "#VECTOR DE CARACTERISTICAS A PARTIR DE CADA LETRA QUE CONTIENE \n",
    "#EL RECUENTO DE LA FRECUENCIA EN QUE CADA PALABRA APARECE EN LAS CANCIONES\n",
    "\n",
    "#from sklearn.feature_extraction.text import CountVectorizer\n",
    "#count = CountVectorizer()\n",
    "#bag = count.fit_transform(tokens_unicos)\n",
    "#bag_np = bag.toarray()\n",
    "#bag_np.shape"
   ]
  },
  {
   "cell_type": "code",
   "execution_count": 14,
   "metadata": {},
   "outputs": [],
   "source": [
    "# FILTRAMOS PALABRAS COMUNES Y RARAS\n",
    "\n",
    "dictionary.filter_extremes(no_below = 5,no_above=0.5, keep_n=100000)"
   ]
  },
  {
   "cell_type": "markdown",
   "metadata": {},
   "source": [
    "### Gensim doc2bow"
   ]
  },
  {
   "cell_type": "markdown",
   "metadata": {},
   "source": [
    "Gensim doc2bow\n",
    "\n",
    "gensimdoc2bow(document)\n",
    "\n",
    "Convierte un documento (una lista de palabras) en una bolsa de palabras con el formato = lista de token_id,token_count)"
   ]
  },
  {
   "cell_type": "code",
   "execution_count": 15,
   "metadata": {},
   "outputs": [],
   "source": [
    "bow_corpus = [dictionary.doc2bow(doc) for doc in df[\"Letras\"]]"
   ]
  },
  {
   "cell_type": "code",
   "execution_count": 16,
   "metadata": {},
   "outputs": [
    {
     "data": {
      "text/plain": [
       "[(0, 1),\n",
       " (1, 1),\n",
       " (2, 1),\n",
       " (3, 1),\n",
       " (4, 1),\n",
       " (5, 1),\n",
       " (6, 5),\n",
       " (7, 2),\n",
       " (8, 1),\n",
       " (9, 4),\n",
       " (10, 1),\n",
       " (11, 1),\n",
       " (12, 1),\n",
       " (13, 1),\n",
       " (14, 1),\n",
       " (15, 1),\n",
       " (16, 1),\n",
       " (17, 1),\n",
       " (18, 1),\n",
       " (19, 1),\n",
       " (20, 1),\n",
       " (21, 1),\n",
       " (22, 1),\n",
       " (23, 3),\n",
       " (24, 1),\n",
       " (25, 1),\n",
       " (26, 1),\n",
       " (27, 1),\n",
       " (28, 1),\n",
       " (29, 1),\n",
       " (30, 1),\n",
       " (31, 1),\n",
       " (32, 1),\n",
       " (33, 1),\n",
       " (34, 1),\n",
       " (35, 1),\n",
       " (36, 1),\n",
       " (37, 1),\n",
       " (38, 1),\n",
       " (39, 1),\n",
       " (40, 1),\n",
       " (41, 1),\n",
       " (42, 1),\n",
       " (43, 3),\n",
       " (44, 1),\n",
       " (45, 1),\n",
       " (46, 1),\n",
       " (47, 1),\n",
       " (48, 1),\n",
       " (49, 4),\n",
       " (50, 1),\n",
       " (51, 1),\n",
       " (52, 1),\n",
       " (53, 1),\n",
       " (54, 1),\n",
       " (55, 1),\n",
       " (56, 6),\n",
       " (57, 7),\n",
       " (58, 2),\n",
       " (59, 1),\n",
       " (60, 1),\n",
       " (61, 1),\n",
       " (62, 3),\n",
       " (63, 1),\n",
       " (64, 1),\n",
       " (65, 1),\n",
       " (66, 1),\n",
       " (67, 5),\n",
       " (68, 1),\n",
       " (69, 2),\n",
       " (70, 1),\n",
       " (71, 1),\n",
       " (72, 1),\n",
       " (73, 1),\n",
       " (74, 1),\n",
       " (75, 3),\n",
       " (76, 1),\n",
       " (77, 1),\n",
       " (78, 2),\n",
       " (79, 3),\n",
       " (80, 1),\n",
       " (81, 1),\n",
       " (82, 1),\n",
       " (83, 1),\n",
       " (84, 1),\n",
       " (85, 1),\n",
       " (86, 1),\n",
       " (87, 1),\n",
       " (88, 4),\n",
       " (89, 1),\n",
       " (90, 1),\n",
       " (91, 1),\n",
       " (92, 7),\n",
       " (93, 4),\n",
       " (94, 1),\n",
       " (95, 1),\n",
       " (96, 2),\n",
       " (97, 1),\n",
       " (98, 1),\n",
       " (99, 1),\n",
       " (100, 1),\n",
       " (101, 1),\n",
       " (102, 1),\n",
       " (103, 1),\n",
       " (104, 1),\n",
       " (105, 1),\n",
       " (106, 2),\n",
       " (107, 1),\n",
       " (108, 1),\n",
       " (109, 1),\n",
       " (110, 2),\n",
       " (111, 1),\n",
       " (112, 3),\n",
       " (113, 6),\n",
       " (114, 1),\n",
       " (115, 1)]"
      ]
     },
     "execution_count": 16,
     "metadata": {},
     "output_type": "execute_result"
    }
   ],
   "source": [
    "#chequeamos que este haciendo las tuplas \n",
    "\n",
    "bow_corpus[0]"
   ]
  },
  {
   "cell_type": "markdown",
   "metadata": {},
   "source": [
    "## TFID\n",
    "\n",
    "frecuencia de término-frecuencia inversa de documento, se utiliza para disminuir el peso de las palabras que aparecen muchas veces en multiples documentos."
   ]
  },
  {
   "cell_type": "code",
   "execution_count": 17,
   "metadata": {},
   "outputs": [],
   "source": [
    "from gensim import corpora, models\n",
    "\n",
    "#creamos el objeto usando el modelo TFIDF\n",
    "tfidf = models.TfidfModel(bow_corpus)"
   ]
  },
  {
   "cell_type": "code",
   "execution_count": 18,
   "metadata": {},
   "outputs": [
    {
     "name": "stdout",
     "output_type": "stream",
     "text": [
      "[(6, 0.10513240347145969), (11, 0.20819122656804373), (20, 0.028496323984081577), (23, 0.08970342868057132), (27, 0.1963203367505995), (57, 0.09594444685779167), (60, 0.05256002476847414), (63, 0.04402263125787276), (67, 0.17979243844805037), (76, 0.10194737439844033), (106, 0.06324587047911087), (116, 0.10664900586627378), (117, 0.08209180167554012), (118, 0.10266039846943761), (119, 0.10087522646857332), (120, 0.11136652713083105), (121, 0.04402263125787276), (122, 0.09475873038971967), (123, 0.16016629901922647), (124, 0.19976005983117268), (125, 0.04519895796446586), (126, 0.052367289118138906), (127, 0.09096540490961894), (128, 0.13176485223500367), (129, 0.09343153018773846), (130, 0.10515176141701141), (131, 0.09096540490961894), (132, 0.0921690978071799), (133, 0.1020458616855827), (134, 0.18194880470610125), (135, 0.07132376328283471), (136, 0.04421500932732963), (137, 0.08381742306059439), (138, 0.09615770520401605), (139, 0.06293414904096481), (140, 0.05692262158943185), (141, 0.21564069168283279), (142, 0.12458400280936634), (143, 0.12059539541253017), (144, 0.05888873650353455), (145, 0.08294022952548076), (146, 0.062150006270422185), (147, 0.12930152407392356), (148, 0.15364746689325423), (149, 0.08381742306059439), (150, 0.09475873038971967), (151, 0.03962653935846079), (152, 0.12458400280936634), (153, 0.08871400892318121), (154, 0.07132376328283471), (155, 0.09725081703109716), (156, 0.09920530958543891), (157, 0.05554066399787832), (158, 0.12930152407392356), (159, 0.07549653324464589), (160, 0.025239206464839563), (161, 0.11136652713083105), (162, 0.20037121374975747), (163, 0.08981522750403682), (164, 0.10664900586627378), (165, 0.3514209195855944), (166, 0.08472540152634506), (167, 0.10457792232485037), (168, 0.08871400892318121), (169, 0.1746498833292226), (170, 0.0921690978071799), (171, 0.29290999138493967)]\n"
     ]
    }
   ],
   "source": [
    "#aplicamos la transformacion a todo el cuerpo del bow corpus\n",
    "\n",
    "corpus_tfidf = tfidf[bow_corpus]\n",
    "print(corpus_tfidf[1])"
   ]
  },
  {
   "cell_type": "markdown",
   "metadata": {},
   "source": [
    "## LDA Model"
   ]
  },
  {
   "cell_type": "markdown",
   "metadata": {},
   "source": [
    "Se utiliza para clasificar el texto de un documento en un tema en particular. Construye un modelo de tema por documento y palabras por modelo de tema, modelado como distribuciones de Dirichlet.\n",
    "\n",
    "Cada documento se modela como una distribución multinomial de temas y cada tema se modela como una distribución multinomial de palabras.\n",
    "\n",
    "LDA asume que cada fragmento de texto que alimentamos contendrá palabras que de alguna manera están relacionadas. Por lo tanto, elegir el corpus de datos adecuado es crucial.\n",
    "También asume que los documentos se producen a partir de una combinación de temas. Luego, esos temas generan palabras basadas en su distribución de probabilidad\n"
   ]
  },
  {
   "cell_type": "code",
   "execution_count": 19,
   "metadata": {},
   "outputs": [],
   "source": [
    "# hacemos correr el modelo con el conjunto de entrenamiento\n",
    "\n",
    "lda_model = gensim.models.LdaMulticore(bow_corpus,\n",
    "                                       num_topics = 10,\n",
    "                                       id2word = dictionary,\n",
    "                                       passes = 2,\n",
    "                                       workers = 2 \n",
    ")"
   ]
  },
  {
   "cell_type": "code",
   "execution_count": 20,
   "metadata": {},
   "outputs": [
    {
     "name": "stdout",
     "output_type": "stream",
     "text": [
      "Topic: 0 \n",
      "Words: 0.019*\"dejar\" + 0.018*\"gustar\" + 0.014*\"siempr\" + 0.012*\"poder\" + 0.010*\"bien\" + 0.010*\"quier\" + 0.008*\"yo\" + 0.007*\"cuerpo\" + 0.007*\"contar\" + 0.007*\"pasar\"\n",
      "\n",
      "\n",
      "Topic: 1 \n",
      "Words: 0.014*\"pasar\" + 0.013*\"ahora\" + 0.011*\"quier\" + 0.011*\"siempr\" + 0.009*\"dimir\" + 0.008*\"volver\" + 0.007*\"cómo\" + 0.007*\"bien\" + 0.007*\"bebé\" + 0.007*\"aunqu\"\n",
      "\n",
      "\n",
      "Topic: 2 \n",
      "Words: 0.014*\"quier\" + 0.012*\"llamar\" + 0.011*\"noch\" + 0.011*\"poner\" + 0.010*\"siempr\" + 0.009*\"bailar\" + 0.008*\"gustar\" + 0.008*\"mami\" + 0.008*\"aquí\" + 0.008*\"dalar\"\n",
      "\n",
      "\n",
      "Topic: 3 \n",
      "Words: 0.020*\"quier\" + 0.014*\"amor\" + 0.012*\"ahora\" + 0.012*\"vamo\" + 0.010*\"porqu\" + 0.010*\"mami\" + 0.009*\"poder\" + 0.008*\"fuist\" + 0.008*\"cómo\" + 0.007*\"dejar\"\n",
      "\n",
      "\n",
      "Topic: 4 \n",
      "Words: 0.015*\"vida\" + 0.012*\"noch\" + 0.011*\"poner\" + 0.010*\"ahora\" + 0.008*\"porqu\" + 0.007*\"quier\" + 0.007*\"dimir\" + 0.007*\"llamar\" + 0.007*\"vamo\" + 0.006*\"cabrón\"\n",
      "\n",
      "\n",
      "Topic: 5 \n",
      "Words: 0.011*\"gustar\" + 0.010*\"quier\" + 0.008*\"poner\" + 0.007*\"siempr\" + 0.007*\"amor\" + 0.007*\"mami\" + 0.006*\"llegar\" + 0.006*\"llamar\" + 0.006*\"aquí\" + 0.006*\"noch\"\n",
      "\n",
      "\n",
      "Topic: 6 \n",
      "Words: 0.016*\"duro\" + 0.011*\"nadi\" + 0.009*\"poner\" + 0.009*\"call\" + 0.009*\"nunca\" + 0.008*\"mami\" + 0.008*\"dimir\" + 0.007*\"fuego\" + 0.007*\"quier\" + 0.007*\"porqu\"\n",
      "\n",
      "\n",
      "Topic: 7 \n",
      "Words: 0.016*\"bailar\" + 0.015*\"dimir\" + 0.012*\"sentir\" + 0.012*\"pastilla\" + 0.011*\"porqu\" + 0.010*\"poder\" + 0.009*\"quier\" + 0.008*\"tú\" + 0.008*\"amor\" + 0.008*\"aquí\"\n",
      "\n",
      "\n",
      "Topic: 8 \n",
      "Words: 0.031*\"mamá\" + 0.011*\"desd\" + 0.011*\"porqu\" + 0.009*\"siempr\" + 0.009*\"nadi\" + 0.008*\"morir\" + 0.008*\"dejar\" + 0.007*\"cabrón\" + 0.007*\"vida\" + 0.007*\"dar\"\n",
      "\n",
      "\n",
      "Topic: 9 \n",
      "Words: 0.019*\"amor\" + 0.015*\"ahora\" + 0.013*\"porqu\" + 0.011*\"quier\" + 0.010*\"vida\" + 0.009*\"poder\" + 0.009*\"aquí\" + 0.008*\"bien\" + 0.008*\"siempr\" + 0.007*\"corazón\"\n",
      "\n",
      "\n"
     ]
    }
   ],
   "source": [
    "#para cada topico exploramos las palabras que mas lo representan\n",
    "\n",
    "for idx, topic in lda_model.print_topics(-1):\n",
    "    \n",
    "    print(\"Topic: {} \\nWords: {}\".format(idx, topic ))\n",
    "    print(\"\\n\")\n"
   ]
  },
  {
   "cell_type": "code",
   "execution_count": 21,
   "metadata": {},
   "outputs": [],
   "source": [
    "# hacemos correr el modelo con el conjunto del tfidf\n",
    "\n",
    "lda_model_tfdif = gensim.models.LdaMulticore(corpus_tfidf,\n",
    "                                       num_topics = 10,\n",
    "                                       id2word = dictionary,\n",
    "                                       passes = 2,\n",
    "                                       workers = 2 \n",
    ")"
   ]
  },
  {
   "cell_type": "code",
   "execution_count": 22,
   "metadata": {},
   "outputs": [
    {
     "name": "stdout",
     "output_type": "stream",
     "text": [
      "Topic: 0 \n",
      "Words: 0.003*\"bebé\" + 0.003*\"gustar\" + 0.003*\"mata\" + 0.002*\"siempr\" + 0.002*\"noch\" + 0.002*\"dile\" + 0.002*\"hablar\" + 0.002*\"loco\" + 0.002*\"llamar\" + 0.002*\"enamorar\"\n",
      "\n",
      "\n",
      "Topic: 1 \n",
      "Words: 0.004*\"locura\" + 0.003*\"ahora\" + 0.003*\"poder\" + 0.003*\"pensar\" + 0.003*\"quier\" + 0.003*\"amor\" + 0.003*\"feliz\" + 0.003*\"contar\" + 0.003*\"dejar\" + 0.003*\"aquí\"\n",
      "\n",
      "\n",
      "Topic: 2 \n",
      "Words: 0.003*\"perdónam\" + 0.003*\"aunqu\" + 0.003*\"ahora\" + 0.003*\"quier\" + 0.003*\"mejor\" + 0.003*\"cómo\" + 0.003*\"lindo\" + 0.003*\"pasar\" + 0.003*\"vida\" + 0.002*\"nadi\"\n",
      "\n",
      "\n",
      "Topic: 3 \n",
      "Words: 0.003*\"amor\" + 0.003*\"quier\" + 0.003*\"durar\" + 0.002*\"cuerpo\" + 0.002*\"dar\" + 0.002*\"todavía\" + 0.002*\"bail\" + 0.002*\"bailar\" + 0.002*\"soltero\" + 0.002*\"nombr\"\n",
      "\n",
      "\n",
      "Topic: 4 \n",
      "Words: 0.003*\"vuelta\" + 0.003*\"ahora\" + 0.003*\"enamorado\" + 0.003*\"mundo\" + 0.003*\"enamorar\" + 0.003*\"llorar\" + 0.003*\"amor\" + 0.003*\"dond\" + 0.002*\"niña\" + 0.002*\"sient\"\n",
      "\n",
      "\n",
      "Topic: 5 \n",
      "Words: 0.004*\"bailar\" + 0.004*\"cabrón\" + 0.003*\"bebé\" + 0.003*\"dimir\" + 0.003*\"siempr\" + 0.002*\"volver\" + 0.002*\"dalar\" + 0.002*\"gustar\" + 0.002*\"sonar\" + 0.002*\"porqu\"\n",
      "\n",
      "\n",
      "Topic: 6 \n",
      "Words: 0.004*\"bailar\" + 0.003*\"amor\" + 0.003*\"vent\" + 0.002*\"gustar\" + 0.002*\"tenert\" + 0.002*\"sueño\" + 0.002*\"vida\" + 0.002*\"sigu\" + 0.002*\"aqui\" + 0.002*\"falta\"\n",
      "\n",
      "\n",
      "Topic: 7 \n",
      "Words: 0.003*\"peor\" + 0.002*\"quier\" + 0.002*\"beber\" + 0.002*\"pasar\" + 0.002*\"bebé\" + 0.002*\"notar\" + 0.002*\"enamorar\" + 0.002*\"vivir\" + 0.002*\"abayard\" + 0.002*\"ojito\"\n",
      "\n",
      "\n",
      "Topic: 8 \n",
      "Words: 0.003*\"dimir\" + 0.003*\"duro\" + 0.003*\"cómo\" + 0.003*\"olvidar\" + 0.003*\"dejar\" + 0.003*\"mami\" + 0.002*\"vida\" + 0.002*\"noch\" + 0.002*\"llamar\" + 0.002*\"poner\"\n",
      "\n",
      "\n",
      "Topic: 9 \n",
      "Words: 0.004*\"amar\" + 0.004*\"pensar\" + 0.003*\"amor\" + 0.003*\"sentir\" + 0.003*\"noch\" + 0.003*\"poder\" + 0.003*\"entonc\" + 0.003*\"llorar\" + 0.003*\"meter\" + 0.003*\"vida\"\n",
      "\n",
      "\n"
     ]
    }
   ],
   "source": [
    "for idx, topic in lda_model_tfdif.print_topics(-1):\n",
    "    \n",
    "    print(\"Topic: {} \\nWords: {}\".format(idx, topic ))\n",
    "    print(\"\\n\")"
   ]
  },
  {
   "cell_type": "markdown",
   "metadata": {},
   "source": [
    "## Performance evaluation"
   ]
  },
  {
   "cell_type": "code",
   "execution_count": 23,
   "metadata": {},
   "outputs": [
    {
     "data": {
      "text/plain": [
       "['marido',\n",
       " 'quier',\n",
       " 'dejar',\n",
       " 'perquin',\n",
       " 'arréglat',\n",
       " 'salir',\n",
       " 'solo',\n",
       " 'culo',\n",
       " 'seguro',\n",
       " 'mami',\n",
       " 'arrastrar',\n",
       " 'cola',\n",
       " 'malo',\n",
       " 'dile',\n",
       " 'ciao',\n",
       " 'noch',\n",
       " 'dile',\n",
       " 'hola',\n",
       " 'poner',\n",
       " 'bonito',\n",
       " 'contar',\n",
       " 'perder',\n",
       " 'vivir',\n",
       " 'aparentar',\n",
       " 'ahora',\n",
       " 'salir',\n",
       " 'arrebatar',\n",
       " 'dema',\n",
       " 'envidia',\n",
       " 'mata',\n",
       " 'subir',\n",
       " 'historia',\n",
       " 'contar',\n",
       " 'logi',\n",
       " 'rescatar',\n",
       " 'ponl',\n",
       " 'batería',\n",
       " 'reggaetón',\n",
       " 'salir',\n",
       " 'noch',\n",
       " 'arrebatar',\n",
       " 'amiga',\n",
       " 'vist',\n",
       " 'dolc',\n",
       " 'nena',\n",
       " 'tipa',\n",
       " 'comparar',\n",
       " 'cort',\n",
       " 'maldito',\n",
       " 'prenda',\n",
       " 'cara',\n",
       " 'ponl',\n",
       " 'batería',\n",
       " 'raggeatón',\n",
       " 'salir',\n",
       " 'porsch',\n",
       " 'arrebaatar',\n",
       " 'amiga',\n",
       " 'vist',\n",
       " 'dolc',\n",
       " 'nena',\n",
       " 'tipa',\n",
       " 'comparar',\n",
       " 'cort',\n",
       " 'maldito',\n",
       " 'prenda',\n",
       " 'cara',\n",
       " 'pont',\n",
       " 'pose',\n",
       " 'marciano',\n",
       " 'romp',\n",
       " 'nosotro',\n",
       " 'somo',\n",
       " 'cort',\n",
       " 'pretendient',\n",
       " 'dile',\n",
       " 'misión',\n",
       " 'abort',\n",
       " 'mando',\n",
       " 'usar',\n",
       " 'port',\n",
       " 'entrart',\n",
       " 'chocart',\n",
       " 'gata',\n",
       " 'cuenteo',\n",
       " 'hacer',\n",
       " 'poder',\n",
       " 'hacer',\n",
       " 'chanteo',\n",
       " 'mientra',\n",
       " 'tuseo',\n",
       " 'culeo',\n",
       " 'complacer',\n",
       " 'desear',\n",
       " 'conocimo',\n",
       " 'puro',\n",
       " 'tien',\n",
       " 'enemigo',\n",
       " 'menear',\n",
       " 'mientra',\n",
       " 'bubi',\n",
       " 'sostener',\n",
       " 'vien',\n",
       " 'venir',\n",
       " 'flait',\n",
       " 'siempr',\n",
       " 'sorprendo',\n",
       " 'marido',\n",
       " 'querer',\n",
       " 'convertir',\n",
       " 'important',\n",
       " 'sigu',\n",
       " 'webe',\n",
       " 'porqu',\n",
       " 'pued',\n",
       " 'despué',\n",
       " 'llamar',\n",
       " 'piteir',\n",
       " 'nena',\n",
       " 'exclusivo',\n",
       " 'importado',\n",
       " 'mesa',\n",
       " 'pedir',\n",
       " 'chiir',\n",
       " 'nave',\n",
       " 'gustar',\n",
       " 'cort',\n",
       " 'diva',\n",
       " 'gustar',\n",
       " 'cama',\n",
       " 'poner',\n",
       " 'agresivo',\n",
       " 'querer',\n",
       " 'tocart',\n",
       " 'cirujano',\n",
       " 'tú',\n",
       " 'pecado',\n",
       " 'noch',\n",
       " 'andar',\n",
       " 'daño',\n",
       " 'decano',\n",
       " 'mano',\n",
       " 'porqu',\n",
       " 'malo',\n",
       " 'noch',\n",
       " 'vamo',\n",
       " 'junto',\n",
       " 'urano',\n",
       " 'marciano',\n",
       " 'enrolamo',\n",
       " 'cama',\n",
       " 'besar',\n",
       " 'punto',\n",
       " 'dart',\n",
       " 'seguro',\n",
       " 'activ',\n",
       " 'andamo',\n",
       " 'climatizado',\n",
       " 'prenda',\n",
       " 'primero',\n",
       " 'robar',\n",
       " 'ponl',\n",
       " 'batería',\n",
       " 'reggaetón',\n",
       " 'salir',\n",
       " 'porsch',\n",
       " 'arrebatar',\n",
       " 'amiga',\n",
       " 'vist',\n",
       " 'dolc',\n",
       " 'nena',\n",
       " 'tipa',\n",
       " 'comparar',\n",
       " 'cort',\n",
       " 'maldito',\n",
       " 'prenda',\n",
       " 'cara',\n",
       " 'ponl',\n",
       " 'batería',\n",
       " 'reggaetón',\n",
       " 'salir',\n",
       " 'porsch',\n",
       " 'arrebatar',\n",
       " 'amiga',\n",
       " 'vist',\n",
       " 'dolc',\n",
       " 'nena',\n",
       " 'tipa',\n",
       " 'comparar',\n",
       " 'cort',\n",
       " 'maldito',\n",
       " 'prenda',\n",
       " 'cara',\n",
       " 'bueno',\n",
       " 'hola',\n",
       " 'bebar',\n",
       " 'cómo',\n",
       " 'llamar',\n",
       " 'llamar',\n",
       " 'andar',\n",
       " 'pana',\n",
       " 'venezolano',\n",
       " 'mándamar',\n",
       " 'freno',\n",
       " 'alto',\n",
       " 'gama',\n",
       " 'fumar',\n",
       " 'marihuana',\n",
       " 'rico',\n",
       " 'drama',\n",
       " 'robo',\n",
       " 'mientra',\n",
       " 'logi',\n",
       " 'rama',\n",
       " 'poner',\n",
       " 'loqui',\n",
       " 'beso',\n",
       " 'boca',\n",
       " 'pasar',\n",
       " 'noti',\n",
       " 'fumar',\n",
       " 'notar',\n",
       " 'debajo',\n",
       " 'pasamo',\n",
       " 'buscart',\n",
       " 'loca',\n",
       " 'dónde',\n",
       " 'pololo',\n",
       " 'seguro',\n",
       " 'salir',\n",
       " 'lata',\n",
       " 'origin',\n",
       " 'logi',\n",
       " 'réplica',\n",
       " 'encantar',\n",
       " 'desnuda',\n",
       " 'encantar',\n",
       " 'andar',\n",
       " 'vestido',\n",
       " 'fanático',\n",
       " 'gucci',\n",
       " 'fendi',\n",
       " 'prado',\n",
       " 'ganancia',\n",
       " 'bobo',\n",
       " 'pont',\n",
       " 'guarachito',\n",
       " 'reggaetón',\n",
       " 'salir',\n",
       " 'porsch',\n",
       " 'arrebatar',\n",
       " 'amiga',\n",
       " 'vist',\n",
       " 'dolc',\n",
       " 'nena',\n",
       " 'tripa',\n",
       " 'comparar',\n",
       " 'cort',\n",
       " 'maldito',\n",
       " 'prenda',\n",
       " 'cara',\n",
       " 'marido',\n",
       " 'quier',\n",
       " 'dejar',\n",
       " 'perquin',\n",
       " 'arregl',\n",
       " 'salir',\n",
       " 'solo',\n",
       " 'culo',\n",
       " 'seguro',\n",
       " 'arrastrar',\n",
       " 'cola',\n",
       " 'malo',\n",
       " 'dile',\n",
       " 'ciao',\n",
       " 'noch',\n",
       " 'dile',\n",
       " 'hola']"
      ]
     },
     "execution_count": 23,
     "metadata": {},
     "output_type": "execute_result"
    }
   ],
   "source": [
    "df[\"Letras\"][700]"
   ]
  },
  {
   "cell_type": "code",
   "execution_count": 24,
   "metadata": {
    "scrolled": true
   },
   "outputs": [
    {
     "name": "stdout",
     "output_type": "stream",
     "text": [
      "\n",
      "Score: 0.3535347580909729\t \n",
      "Topic: 0.003*\"vuelta\" + 0.003*\"ahora\" + 0.003*\"enamorado\" + 0.003*\"mundo\" + 0.003*\"enamorar\" + 0.003*\"llorar\" + 0.003*\"amor\" + 0.003*\"dond\" + 0.002*\"niña\" + 0.002*\"sient\"\n",
      "\n",
      "Score: 0.3198714554309845\t \n",
      "Topic: 0.003*\"peor\" + 0.002*\"quier\" + 0.002*\"beber\" + 0.002*\"pasar\" + 0.002*\"bebé\" + 0.002*\"notar\" + 0.002*\"enamorar\" + 0.002*\"vivir\" + 0.002*\"abayard\" + 0.002*\"ojito\"\n",
      "\n",
      "Score: 0.22981879115104675\t \n",
      "Topic: 0.004*\"bailar\" + 0.003*\"amor\" + 0.003*\"vent\" + 0.002*\"gustar\" + 0.002*\"tenert\" + 0.002*\"sueño\" + 0.002*\"vida\" + 0.002*\"sigu\" + 0.002*\"aqui\" + 0.002*\"falta\"\n",
      "\n",
      "Score: 0.09409455955028534\t \n",
      "Topic: 0.004*\"bailar\" + 0.004*\"cabrón\" + 0.003*\"bebé\" + 0.003*\"dimir\" + 0.003*\"siempr\" + 0.002*\"volver\" + 0.002*\"dalar\" + 0.002*\"gustar\" + 0.002*\"sonar\" + 0.002*\"porqu\"\n"
     ]
    }
   ],
   "source": [
    "cancion_num = 700\n",
    "#vamos a ver como clasifica la canción nro 700 el modelo\n",
    "\n",
    "for index,score in sorted(lda_model[bow_corpus[cancion_num]], key = lambda tup: -1*tup[1]):\n",
    "\n",
    "    print(\"\\nScore: {}\\t \\nTopic: {}\".format(score, lda_model_tfdif.print_topic(index,10)))"
   ]
  },
  {
   "cell_type": "code",
   "execution_count": 25,
   "metadata": {},
   "outputs": [
    {
     "data": {
      "text/plain": [
       "Títulos                     Ponle (part. Marcianeke y El BAI)\n",
       "Artistas                                     Balbi El Chamako\n",
       "Letras      [marido, quier, dejar, perquin, arréglat, sali...\n",
       "Name: 700, dtype: object"
      ]
     },
     "execution_count": 25,
     "metadata": {},
     "output_type": "execute_result"
    }
   ],
   "source": [
    "df.iloc[700]"
   ]
  },
  {
   "cell_type": "code",
   "execution_count": 26,
   "metadata": {},
   "outputs": [
    {
     "data": {
      "text/plain": [
       "Títulos     Te Bote (remix) (part. Casper, Nio García, Dar...\n",
       "Artistas                                            Bad Bunny\n",
       "Letras      [darel, verdadero, remix, babi, ozuna, paso, m...\n",
       "Name: 3, dtype: object"
      ]
     },
     "execution_count": 26,
     "metadata": {},
     "output_type": "execute_result"
    }
   ],
   "source": [
    "df.iloc[3]"
   ]
  },
  {
   "cell_type": "code",
   "execution_count": 27,
   "metadata": {},
   "outputs": [
    {
     "name": "stdout",
     "output_type": "stream",
     "text": [
      "\n",
      "Score: 0.9973597526550293\t \n",
      "Topic: 0.003*\"vuelta\" + 0.003*\"ahora\" + 0.003*\"enamorado\" + 0.003*\"mundo\" + 0.003*\"enamorar\" + 0.003*\"llorar\" + 0.003*\"amor\" + 0.003*\"dond\" + 0.002*\"niña\" + 0.002*\"sient\"\n"
     ]
    }
   ],
   "source": [
    "cancion_num = 3\n",
    "#vamos a ver como clasifica la canción nro 3 el modelo\n",
    "\n",
    "for index,score in sorted(lda_model[bow_corpus[cancion_num]], key = lambda tup: -1*tup[1]):\n",
    "\n",
    "    print(\"\\nScore: {}\\t \\nTopic: {}\".format(score, lda_model_tfdif.print_topic(index,10)))"
   ]
  },
  {
   "cell_type": "code",
   "execution_count": 31,
   "metadata": {},
   "outputs": [
    {
     "data": {
      "text/html": [
       "<div>\n",
       "<style scoped>\n",
       "    .dataframe tbody tr th:only-of-type {\n",
       "        vertical-align: middle;\n",
       "    }\n",
       "\n",
       "    .dataframe tbody tr th {\n",
       "        vertical-align: top;\n",
       "    }\n",
       "\n",
       "    .dataframe thead th {\n",
       "        text-align: right;\n",
       "    }\n",
       "</style>\n",
       "<table border=\"1\" class=\"dataframe\">\n",
       "  <thead>\n",
       "    <tr style=\"text-align: right;\">\n",
       "      <th></th>\n",
       "      <th>Títulos</th>\n",
       "      <th>Artistas</th>\n",
       "      <th>Letras</th>\n",
       "    </tr>\n",
       "  </thead>\n",
       "  <tbody>\n",
       "    <tr>\n",
       "      <th>155</th>\n",
       "      <td>Despacito (part. Luis Fonsi)</td>\n",
       "      <td>Daddy Yankee</td>\n",
       "      <td>[fonsi, diridiri, dirididi, daddi, saber, llev...</td>\n",
       "    </tr>\n",
       "  </tbody>\n",
       "</table>\n",
       "</div>"
      ],
      "text/plain": [
       "                          Títulos      Artistas  \\\n",
       "155  Despacito (part. Luis Fonsi)  Daddy Yankee   \n",
       "\n",
       "                                                Letras  \n",
       "155  [fonsi, diridiri, dirididi, daddi, saber, llev...  "
      ]
     },
     "execution_count": 31,
     "metadata": {},
     "output_type": "execute_result"
    }
   ],
   "source": [
    "df[df[\"Títulos\"] == \"Despacito (part. Luis Fonsi)\"]"
   ]
  },
  {
   "cell_type": "code",
   "execution_count": 32,
   "metadata": {},
   "outputs": [
    {
     "name": "stdout",
     "output_type": "stream",
     "text": [
      "\n",
      "Score: 0.9943358898162842\t \n",
      "Topic: 0.003*\"bebé\" + 0.003*\"gustar\" + 0.003*\"mata\" + 0.002*\"siempr\" + 0.002*\"noch\" + 0.002*\"dile\" + 0.002*\"hablar\" + 0.002*\"loco\" + 0.002*\"llamar\" + 0.002*\"enamorar\"\n"
     ]
    }
   ],
   "source": [
    "cancion_num = 155\n",
    "\n",
    "\n",
    "for index,score in sorted(lda_model[bow_corpus[cancion_num]], key = lambda tup: -1*tup[1]):\n",
    "\n",
    "    print(\"\\nScore: {}\\t \\nTopic: {}\".format(score, lda_model_tfdif.print_topic(index,10)))"
   ]
  },
  {
   "cell_type": "code",
   "execution_count": 33,
   "metadata": {},
   "outputs": [
    {
     "data": {
      "text/html": [
       "<div>\n",
       "<style scoped>\n",
       "    .dataframe tbody tr th:only-of-type {\n",
       "        vertical-align: middle;\n",
       "    }\n",
       "\n",
       "    .dataframe tbody tr th {\n",
       "        vertical-align: top;\n",
       "    }\n",
       "\n",
       "    .dataframe thead th {\n",
       "        text-align: right;\n",
       "    }\n",
       "</style>\n",
       "<table border=\"1\" class=\"dataframe\">\n",
       "  <thead>\n",
       "    <tr style=\"text-align: right;\">\n",
       "      <th></th>\n",
       "      <th>Títulos</th>\n",
       "      <th>Artistas</th>\n",
       "      <th>Letras</th>\n",
       "    </tr>\n",
       "  </thead>\n",
       "  <tbody>\n",
       "    <tr>\n",
       "      <th>97</th>\n",
       "      <td>Tusa (part. Nicki Minaj)</td>\n",
       "      <td>KAROL G</td>\n",
       "      <td>[pasar, tú, dímelo, drum, tien, excusa, salir,...</td>\n",
       "    </tr>\n",
       "  </tbody>\n",
       "</table>\n",
       "</div>"
      ],
      "text/plain": [
       "                     Títulos Artistas  \\\n",
       "97  Tusa (part. Nicki Minaj)  KAROL G   \n",
       "\n",
       "                                               Letras  \n",
       "97  [pasar, tú, dímelo, drum, tien, excusa, salir,...  "
      ]
     },
     "execution_count": 33,
     "metadata": {},
     "output_type": "execute_result"
    }
   ],
   "source": [
    "df[df[\"Títulos\"] == \"Tusa (part. Nicki Minaj)\"]"
   ]
  },
  {
   "cell_type": "code",
   "execution_count": 34,
   "metadata": {},
   "outputs": [
    {
     "name": "stdout",
     "output_type": "stream",
     "text": [
      "\n",
      "Score: 0.9657354950904846\t \n",
      "Topic: 0.004*\"amar\" + 0.004*\"pensar\" + 0.003*\"amor\" + 0.003*\"sentir\" + 0.003*\"noch\" + 0.003*\"poder\" + 0.003*\"entonc\" + 0.003*\"llorar\" + 0.003*\"meter\" + 0.003*\"vida\"\n",
      "\n",
      "Score: 0.02759401686489582\t \n",
      "Topic: 0.003*\"bebé\" + 0.003*\"gustar\" + 0.003*\"mata\" + 0.002*\"siempr\" + 0.002*\"noch\" + 0.002*\"dile\" + 0.002*\"hablar\" + 0.002*\"loco\" + 0.002*\"llamar\" + 0.002*\"enamorar\"\n"
     ]
    }
   ],
   "source": [
    "cancion_num = 97\n",
    "\n",
    "\n",
    "for index,score in sorted(lda_model[bow_corpus[cancion_num]], key = lambda tup: -1*tup[1]):\n",
    "\n",
    "    print(\"\\nScore: {}\\t \\nTopic: {}\".format(score, lda_model_tfdif.print_topic(index,10)))"
   ]
  },
  {
   "cell_type": "code",
   "execution_count": 35,
   "metadata": {},
   "outputs": [
    {
     "data": {
      "text/html": [
       "<div>\n",
       "<style scoped>\n",
       "    .dataframe tbody tr th:only-of-type {\n",
       "        vertical-align: middle;\n",
       "    }\n",
       "\n",
       "    .dataframe tbody tr th {\n",
       "        vertical-align: top;\n",
       "    }\n",
       "\n",
       "    .dataframe thead th {\n",
       "        text-align: right;\n",
       "    }\n",
       "</style>\n",
       "<table border=\"1\" class=\"dataframe\">\n",
       "  <thead>\n",
       "    <tr style=\"text-align: right;\">\n",
       "      <th></th>\n",
       "      <th>Títulos</th>\n",
       "      <th>Artistas</th>\n",
       "      <th>Letras</th>\n",
       "    </tr>\n",
       "  </thead>\n",
       "  <tbody>\n",
       "    <tr>\n",
       "      <th>116</th>\n",
       "      <td>In Da Getto (part. Skrillex)</td>\n",
       "      <td>J Balvin</td>\n",
       "      <td>[dancin, ghetto, ghetto, parti, ghetto, ghetto...</td>\n",
       "    </tr>\n",
       "  </tbody>\n",
       "</table>\n",
       "</div>"
      ],
      "text/plain": [
       "                          Títulos  Artistas  \\\n",
       "116  In Da Getto (part. Skrillex)  J Balvin   \n",
       "\n",
       "                                                Letras  \n",
       "116  [dancin, ghetto, ghetto, parti, ghetto, ghetto...  "
      ]
     },
     "execution_count": 35,
     "metadata": {},
     "output_type": "execute_result"
    }
   ],
   "source": [
    "df[df[\"Títulos\"] == \"In Da Getto (part. Skrillex)\"]"
   ]
  },
  {
   "cell_type": "code",
   "execution_count": 36,
   "metadata": {
    "scrolled": true
   },
   "outputs": [
    {
     "name": "stdout",
     "output_type": "stream",
     "text": [
      "\n",
      "Score: 0.991662859916687\t \n",
      "Topic: 0.003*\"peor\" + 0.002*\"quier\" + 0.002*\"beber\" + 0.002*\"pasar\" + 0.002*\"bebé\" + 0.002*\"notar\" + 0.002*\"enamorar\" + 0.002*\"vivir\" + 0.002*\"abayard\" + 0.002*\"ojito\"\n"
     ]
    }
   ],
   "source": [
    "cancion_num = 116\n",
    "\n",
    "for index,score in sorted(lda_model[bow_corpus[cancion_num]], key = lambda tup: -1*tup[1]):\n",
    "\n",
    "    print(\"\\nScore: {}\\t \\nTopic: {}\".format(score, lda_model_tfdif.print_topic(index,10)))"
   ]
  },
  {
   "cell_type": "code",
   "execution_count": 41,
   "metadata": {},
   "outputs": [],
   "source": [
    "tokens = df[\"Letras\"].sum()"
   ]
  },
  {
   "cell_type": "code",
   "execution_count": 45,
   "metadata": {},
   "outputs": [
    {
     "data": {
      "text/plain": [
       "<wordcloud.wordcloud.WordCloud at 0x1e9ceff5580>"
      ]
     },
     "execution_count": 45,
     "metadata": {},
     "output_type": "execute_result"
    }
   ],
   "source": [
    "from wordcloud import WordCloud\n",
    "import matplotlib.pyplot as plt\n",
    "\n",
    "reggaeton_wc = WordCloud(background_color='white', max_words=len(tokens))\n",
    "# El objeto de word cloud\n",
    "reggaeton_wc.generate(' '.join(tokens))"
   ]
  },
  {
   "cell_type": "code",
   "execution_count": 47,
   "metadata": {},
   "outputs": [
    {
     "data": {
      "image/png": "[encoded data removed]",
      "text/plain": [
       "<Figure size 864x864 with 1 Axes>"
      ]
     },
     "metadata": {
      "needs_background": "light"
     },
     "output_type": "display_data"
    }
   ],
   "source": [
    "fig, ax = plt.subplots(figsize=(12,12))\n",
    "ax.imshow(reggaeton_wc)\n",
    "ax.axis('off')\n",
    "plt.savefig('WordCloudNLP.png',format ='png',dpi = 100,bbox_inches='tight')\n",
    "plt.show()\n"
   ]
  },
  {
   "cell_type": "code",
   "execution_count": null,
   "metadata": {},
   "outputs": [],
   "source": []
  }
 ],
 "metadata": {
  "kernelspec": {
   "display_name": "Python 3 (ipykernel)",
   "language": "python",
   "name": "python3"
  },
  "language_info": {
   "codemirror_mode": {
    "name": "ipython",
    "version": 3
   },
   "file_extension": ".py",
   "mimetype": "text/x-python",
   "name": "python",
   "nbconvert_exporter": "python",
   "pygments_lexer": "ipython3",
   "version": "3.8.5"
  }
 },
 "nbformat": 4,
 "nbformat_minor": 4
}
